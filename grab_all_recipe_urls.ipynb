{
 "cells": [
  {
   "cell_type": "code",
   "execution_count": 155,
   "metadata": {},
   "outputs": [],
   "source": [
    "import requests # Импортируем библиотеку requests для запросов\n",
    "from bs4 import BeautifulSoup # Импортируем библиотеку BeautifulSoup для парсинга\n",
    "import bleach  # Импортируем библиотеку bleach для очистки текста от тэгов\n",
    "import re      # Импортируем библиотеку для регулярных выражений\n",
    "import pyautogui  # Импортируем библиотеку для интерактивного ввода\n",
    "import pandas as pd\n",
    "import os.path"
   ]
  },
  {
   "cell_type": "code",
   "execution_count": 156,
   "metadata": {},
   "outputs": [],
   "source": [
    "if os.path.isfile('./all_url_df.csv'):\n",
    "    # Считываем таблицу ссылок из файла, если он существует.\n",
    "    url_df = pd.read_csv('./all_url_df.csv')\n",
    "else:\n",
    "    # Создаем таблицу таблицу ссылок, если файла с ней нет.\n",
    "    url_df = pd.DataFrame(columns=['url'])"
   ]
  },
  {
   "cell_type": "code",
   "execution_count": 157,
   "metadata": {},
   "outputs": [],
   "source": [
    "def grab_page_url(url):\n",
    "    \"\"\"\n",
    "        Функция формирует адрес ссылки на рецепт.\n",
    "            Args:\n",
    "                url (string): адрес страницы каталога рецептов.\n",
    "            Returns:\n",
    "                url_curr_page_df (dataframe): адрес ссылки на рецепт.\n",
    "    \"\"\"\n",
    "    # Выполняем GET-запрос, содержимое ответа присваивается переменной response\n",
    "    response = requests.get(url, headers={\n",
    "    'User-Agent': \n",
    "    'Mozilla/5.0 (X11; Linux x86_64) AppleWebKit/537.36 (KHTML, like Gecko) Chrome/108.0.0.0 Safari/537.36'})\n",
    "    # Создаём объект BeautifulSoup, указывая html-парсер\n",
    "    page = BeautifulSoup(response.text, 'html.parser')\n",
    "    begin=page.text.find(\n",
    "        '@type\":\"ItemList\",\"itemListElement\":[{\"@type\":\"ListItem\",\"url\"')\n",
    "    end=page.text.find('\"@context\":\"http://schema.org\"')\n",
    "    page.text[begin:end]\n",
    "    url_list_r = page.text[begin:end].split('{\"@type\":\"ListItem\",\"url\":\"')\n",
    "    url_list = []\n",
    "    for i in range(1, len(url_list_r)):\n",
    "        url_list.append(url_list_r[i].split(',')[0][:-1])\n",
    "\n",
    "    url_curr_page_df = pd.DataFrame(columns=['url'])\n",
    "    url_curr_page_df.url = pd.Series(url_list)\n",
    "    return url_curr_page_df"
   ]
  },
  {
   "cell_type": "code",
   "execution_count": 158,
   "metadata": {},
   "outputs": [],
   "source": [
    "for i in range(100,714):\n",
    "    url = 'https://eda.ru/recepty?page='+str(i)\n",
    "    # Присоединение url текущей страницы  к таблице url\n",
    "    url_df = pd.concat([url_df, grab_page_url(url)], ignore_index=True)\n",
    "    # удаление дубликатов рецептов \n",
    "    url_df.drop_duplicates(inplace=True)\n",
    "\n",
    "# Запись в файл\n",
    "url_df.to_csv('./all_urls_df.csv', index=False)\n",
    "    "
   ]
  }
 ],
 "metadata": {
  "kernelspec": {
   "display_name": "Python 3",
   "language": "python",
   "name": "python3"
  },
  "language_info": {
   "codemirror_mode": {
    "name": "ipython",
    "version": 3
   },
   "file_extension": ".py",
   "mimetype": "text/x-python",
   "name": "python",
   "nbconvert_exporter": "python",
   "pygments_lexer": "ipython3",
   "version": "3.8.10 (default, Nov 14 2022, 12:59:47) \n[GCC 9.4.0]"
  },
  "orig_nbformat": 4,
  "vscode": {
   "interpreter": {
    "hash": "31f2aee4e71d21fbe5cf8b01ff0e069b9275f58929596ceb00d14d90e3e16cd6"
   }
  }
 },
 "nbformat": 4,
 "nbformat_minor": 2
}
