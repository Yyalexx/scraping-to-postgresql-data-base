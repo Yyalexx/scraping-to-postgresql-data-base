{
 "cells": [
  {
   "cell_type": "code",
   "execution_count": 43,
   "metadata": {},
   "outputs": [],
   "source": [
    "import requests # Импортируем библиотеку requests для запросов\n",
    "from bs4 import BeautifulSoup # Импортируем библиотеку BeautifulSoup для парсинга\n",
    "import bleach  # Импортируем библиотеку bleach для очистки текста от тэгов\n",
    "import pandas as pd\n",
    "import os.path"
   ]
  },
  {
   "cell_type": "code",
   "execution_count": 44,
   "metadata": {},
   "outputs": [],
   "source": [
    "columns_list=['recipe_id', 'cuisine', 'meal_mode', 'recipe_name', \n",
    "            'portions', 'calories', 'proteinContent',\n",
    "            'fatContent', 'carbohydrateContent', 'ingr_name', \n",
    "            'ingr_qwn', 'measure', 'quantity', 'text']"
   ]
  },
  {
   "cell_type": "code",
   "execution_count": 45,
   "metadata": {},
   "outputs": [
    {
     "data": {
      "text/plain": [
       "9428"
      ]
     },
     "execution_count": 45,
     "metadata": {},
     "output_type": "execute_result"
    }
   ],
   "source": [
    "# Считываем таблицу ссылок рецептов из файла.\n",
    "url_df = pd.read_csv('./all_url_df.csv')\n",
    "len(url_df)"
   ]
  },
  {
   "cell_type": "code",
   "execution_count": 46,
   "metadata": {},
   "outputs": [],
   "source": [
    "# Если файлы таблиц существуют, считываем их\n",
    "if os.path.isfile('./ingr_df.csv'):\n",
    "    # Считываем таблицу ингредиентов из файла.\n",
    "    ingr_df = pd.read_csv('./ingr_df.csv')\n",
    "else:\n",
    "    # Создаем таблицу таблицу ингредиентов, если файла с ней нет.\n",
    "    ingr_df = pd.DataFrame(columns=['ingr_id', 'ingr_name'])\n",
    "    \n",
    "if os.path.isfile('./recipe_df.csv'):\n",
    "    # Считываем таблицу рецептов из файла.\n",
    "    recipe_df = pd.read_csv('./recipe_df.csv')\n",
    "else:\n",
    "    # Создаем таблицу таблицу рецептов, если файла с ней нет.\n",
    "    recipe_df = pd.DataFrame(columns=columns_list)"
   ]
  },
  {
   "cell_type": "code",
   "execution_count": 47,
   "metadata": {},
   "outputs": [],
   "source": [
    "def add_ingr(ingr_name, ingr_df):\n",
    "    \"\"\"\n",
    "    Функция добавляет ингредиент с уникальным именем в таблицу ингредиентов.\n",
    "\n",
    "        Args:\n",
    "            ingr_name (string): наименование ингредиента\n",
    "            ingr_df (dataframe): таблица ингредиентов.\n",
    " \n",
    "        Returns:\n",
    "            ingr_df (dataframe): таблица ингредиентов с добавленным уникальным ингредиентом.    \n",
    "    \"\"\"\n",
    "    # dataframe текущего ингредиента\n",
    "    curr_ingr = pd.DataFrame(columns=['ingr_id', 'ingr_name'], index=range(1))\n",
    "    curr_ingr.ingr_name = ingr_name # наименование текущего ингредиента\n",
    "    curr_ingr.ingr_id = ingr_df.ingr_id.count() # id текущего ингредиента\n",
    "    # присоединение текущего ингредиента к исходному dataframe \n",
    "    ingr_df = pd.concat([ingr_df, curr_ingr], ignore_index=True)\n",
    "    # удаление ингредиента, если такое наименование уже было в исходном dataframe  \n",
    "    ingr_df.drop_duplicates(subset=['ingr_name'], inplace=True)\n",
    "    return ingr_df"
   ]
  },
  {
   "cell_type": "code",
   "execution_count": 48,
   "metadata": {},
   "outputs": [],
   "source": [
    "for i in range(0,100): # Выбор ссылок для частичного парсинга из всех 9428 ссылок\n",
    "    url = url_df.url[i]\n",
    "    try:\n",
    "        # Выполняем GET-запрос, содержимое ответа присваивается переменной response\n",
    "        response = requests.get(url, headers={\n",
    "        'User-Agent': \n",
    "        'Mozilla/5.0 (X11; Linux x86_64) AppleWebKit/537.36 (KHTML, like Gecko) Chrome/108.0.0.0 Safari/537.36'})\n",
    "        # Создаём объект BeautifulSoup, указывая html-парсер\n",
    "        page = BeautifulSoup(response.text, 'html.parser') \n",
    "    except:\n",
    "        pass\n",
    "    # Кухня\n",
    "    try:\n",
    "        cuisine = page.title.text.split(\" – \")[1].split(\":\")[0]\n",
    "    except:\n",
    "        cuisine = None\n",
    "    # meal_mode    \n",
    "    try:\n",
    "        meal_mode = page.title.text.split(\": \")[1].split(\".\")[0]\n",
    "    except:\n",
    "        meal_mode = None\n",
    "    # Название рецепта\n",
    "    try:\n",
    "        recipe_name = page.find('h1').text.replace('\\xa0',' ')\n",
    "    except:\n",
    "        recipe_name = None\n",
    "    # portions\n",
    "    try:\n",
    "        portions = page.find(itemprop=\"recipeYield\")\n",
    "        portions = int(bleach.clean(str(portions), tags=[], strip=True))\n",
    "    except:\n",
    "        portions = None\n",
    "    # calories\n",
    "    try:\n",
    "        calories = page.find(itemprop=\"calories\")\n",
    "        calories= int(bleach.clean(str(calories), tags=[], strip=True))\n",
    "    except:\n",
    "        calories = None\n",
    "    # proteinContent\n",
    "    try:\n",
    "        proteinContent = page.find(itemprop=\"proteinContent\")\n",
    "        proteinContent= int(bleach.clean(str(proteinContent), tags=[], strip=True))\n",
    "    except:\n",
    "        proteinContent = None\n",
    "    # fatContent\n",
    "    try:\n",
    "        itemProp=\"fatContent\"\n",
    "        fatContent = page.find(itemprop=\"fatContent\")\n",
    "        fatContent= int(bleach.clean(str(fatContent), tags=[], strip=True))\n",
    "    except:\n",
    "        fatContent = None\n",
    "    # carbohydrateContent\n",
    "    try:\n",
    "        carbohydrateContent = page.find(itemprop=\"carbohydrateContent\")\n",
    "        carbohydrateContent= int(bleach.clean(str(carbohydrateContent), tags=[], strip=True))\n",
    "    except:\n",
    "        carbohydrateContent = None\n",
    "    # ingr_names_list\n",
    "    ingr_names = page.find_all(itemprop=\"recipeIngredient\")\n",
    "    ingr_names_list = []\n",
    "    for ingr_name in ingr_names:\n",
    "        ingr_name =  bleach.clean(str(ingr_name), tags=[], strip=True)\n",
    "        ingr_names_list.append(ingr_name)\n",
    "    # iingr_qwn_list\n",
    "    ingr_qnts = page.find_all(class_=\"emotion-15im4d2\")\n",
    "    iingr_qwn_list = []\n",
    "    for ingr_qwn in ingr_qnts:\n",
    "        ingr_qwn =  bleach.clean(str(ingr_qwn), tags=[], strip=True)\n",
    "        iingr_qwn_list.append(ingr_qwn)\n",
    "    # Словарь ингредиентов текущего рецепта\n",
    "    ingr_dict = {}\n",
    "    if len(ingr_names_list) == len(iingr_qwn_list):\n",
    "        for i in range(len(ingr_names_list)):\n",
    "            ingr_dict[ingr_names_list[i]] = iingr_qwn_list[i]\n",
    "            # Добавление ингредиентов текущего рецепта в таблицу ингредиентов\n",
    "            ingr_df = add_ingr(ingr_names_list[i], ingr_df)\n",
    "    # Текст рецепта\n",
    "    rtl = page.find_all(itemprop=\"recipeInstructions\")\n",
    "    recipe_text_list = []\n",
    "    for i in range(len(rtl)):\n",
    "        recipe_step = rtl[i]\n",
    "        recipe_step = bleach.clean(str(recipe_step), tags=[], strip=True)\n",
    "        recipe_step = recipe_step.replace('\\n','').replace('\\xa0',' ')\n",
    "        if i>=9:\n",
    "            a = 2\n",
    "        else: a = 1\n",
    "        recipe_step = (\"\").join(recipe_step.split(\"Шпаргалка\")[0])\n",
    "        recipe_step = (\"\").join(recipe_step.split(\"Инструмент\")[0])[a:]\n",
    "        recipe_text_list.append(recipe_step)\n",
    "    recipe_text = (\" \").join(recipe_text_list)    \n",
    "\n",
    "    # Таблица текущего рецепта\n",
    "    recipe = pd.DataFrame(columns=columns_list)\n",
    "    recipe.ingr_name = pd.Series(ingr_dict.keys())\n",
    "    recipe.ingr_qwn = pd.Series(ingr_dict.values())\n",
    "    recipe.recipe_name = recipe_name\n",
    "    recipe.portions = portions\n",
    "    recipe.calories = calories\n",
    "    recipe.proteinContent = proteinContent\n",
    "    recipe.fatContent = fatContent\n",
    "    recipe.carbohydrateContent = carbohydrateContent\n",
    "    recipe.text = recipe_text\n",
    "    recipe.cuisine = cuisine\n",
    "    recipe.meal_mode = meal_mode\n",
    "    if len(recipe_df) == 0: #если это первый рецепт в таблице\n",
    "        recipe.recipe_id = 0\n",
    "    else:\n",
    "        recipe.recipe_id = recipe_df.recipe_id.iloc[-1]+1\n",
    "\n",
    "    # Присоединение текущего рецепта к таблице рецептов\n",
    "    recipe_df = pd.concat([recipe_df, recipe], ignore_index=True)\n",
    "# удаление дубликатов рецептов \n",
    "recipe_df.drop_duplicates(inplace=True, subset=['recipe_name', 'ingr_name'])"
   ]
  },
  {
   "cell_type": "code",
   "execution_count": 49,
   "metadata": {},
   "outputs": [],
   "source": [
    "# Запись в файлы\n",
    "recipe_df.to_csv('./recipe_df.csv', index=False)\n",
    "ingr_df.to_csv('./ingr_df.csv', index=False)"
   ]
  }
 ],
 "metadata": {
  "kernelspec": {
   "display_name": "Python 3",
   "language": "python",
   "name": "python3"
  },
  "language_info": {
   "codemirror_mode": {
    "name": "ipython",
    "version": 3
   },
   "file_extension": ".py",
   "mimetype": "text/x-python",
   "name": "python",
   "nbconvert_exporter": "python",
   "pygments_lexer": "ipython3",
   "version": "3.8.10 (default, Nov 14 2022, 12:59:47) \n[GCC 9.4.0]"
  },
  "orig_nbformat": 4,
  "vscode": {
   "interpreter": {
    "hash": "31f2aee4e71d21fbe5cf8b01ff0e069b9275f58929596ceb00d14d90e3e16cd6"
   }
  }
 },
 "nbformat": 4,
 "nbformat_minor": 2
}
