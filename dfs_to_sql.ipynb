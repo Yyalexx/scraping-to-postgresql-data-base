{
 "cells": [
  {
   "cell_type": "code",
   "execution_count": 27,
   "metadata": {},
   "outputs": [],
   "source": [
    "import pandas as pd\n",
    "# import sys to get more detailed Python exception info\n",
    "import sys\n",
    "# import the connect library for psycopg2\n",
    "import psycopg2\n",
    "import psycopg2.extras as extras\n",
    "# import the error handling libraries for psycopg2\n",
    "from psycopg2 import OperationalError, errorcodes, errors"
   ]
  },
  {
   "cell_type": "code",
   "execution_count": 28,
   "metadata": {},
   "outputs": [],
   "source": [
    "ingredient = pd.read_csv('./ingredient.csv')\n",
    "recipe = pd.read_csv('./recipe.csv')\n",
    "connections = pd.read_csv('./connections.csv')\n",
    "unit = pd.read_csv('./unit.csv')"
   ]
  },
  {
   "cell_type": "markdown",
   "metadata": {},
   "source": [
    "### Specify the connection parameters"
   ]
  },
  {
   "cell_type": "code",
   "execution_count": 29,
   "metadata": {},
   "outputs": [],
   "source": [
    "conn_params_dic = {\n",
    "    \"host\"      : \"localhost\",\n",
    "    \"database\"  : \"recipes\",\n",
    "    \"user\"      : \"postgres\",\n",
    "    \"password\"  : \"*\"\n",
    "}"
   ]
  },
  {
   "attachments": {},
   "cell_type": "markdown",
   "metadata": {},
   "source": [
    "### Support Function"
   ]
  },
  {
   "cell_type": "code",
   "execution_count": 30,
   "metadata": {},
   "outputs": [],
   "source": [
    "# Define a function that handles and parses psycopg2 exceptions\n",
    "def show_psycopg2_exception(err):\n",
    "    # get details about the exception\n",
    "    err_type, err_obj, traceback = sys.exc_info()    \n",
    "    # get the line number when exception occured\n",
    "    line_n = traceback.tb_lineno    \n",
    "    # print the connect() error\n",
    "    print (\"\\npsycopg2 ERROR:\", err, \"on line number:\", line_n)\n",
    "    print (\"psycopg2 traceback:\", traceback, \"-- type:\", err_type) \n",
    "    # psycopg2 extensions.Diagnostics object attribute\n",
    "    print (\"\\nextensions.Diagnostics:\", err.diag)    \n",
    "    # print the pgcode and pgerror exceptions\n",
    "    print (\"pgerror:\", err.pgerror)\n",
    "    print (\"pgcode:\", err.pgcode, \"\\n\")\n",
    "    \n",
    "# Define a connect function for PostgreSQL database server\n",
    "def connect(conn_params_dic):\n",
    "    conn = None\n",
    "    try:\n",
    "        print('Connecting to the PostgreSQL...........')\n",
    "        conn = psycopg2.connect(**conn_params_dic)\n",
    "        print(\"Connection successfully..................\")\n",
    "        \n",
    "    except OperationalError as err:\n",
    "        # passing exception to function\n",
    "        show_psycopg2_exception(err)        \n",
    "        # set the connection to 'None' in case of error\n",
    "        conn = None\n",
    "    return conn\n",
    "\n",
    "        \n",
    "# Define function using psycopg2.extras.execute_values() to insert the dataframe.\n",
    "def execute(conn, datafrm, table):\n",
    "    \n",
    "    # Creating a list of tupples from the dataframe values\n",
    "    tpls = [tuple(x) for x in datafrm.to_numpy()]\n",
    "    \n",
    "    # dataframe columns with Comma-separated\n",
    "    cols = ','.join(list(datafrm.columns))\n",
    "    \n",
    "    # SQL query to execute\n",
    "    sql = \"INSERT INTO %s(%s) VALUES %%s\" % (table, cols)\n",
    "    cursor = conn.cursor()\n",
    "    try:\n",
    "        extras.execute_values(cursor, sql, tpls)\n",
    "        conn.commit()\n",
    "        print(\"Data inserted using execute_values() successfully...\")\n",
    "    except (Exception, psycopg2.DatabaseError) as err:\n",
    "        # pass exception to function\n",
    "        show_psycopg2_exception(err)\n",
    "        cursor.close()"
   ]
  },
  {
   "cell_type": "markdown",
   "metadata": {},
   "source": [
    "### Perform main task"
   ]
  },
  {
   "cell_type": "code",
   "execution_count": 31,
   "metadata": {},
   "outputs": [
    {
     "name": "stdout",
     "output_type": "stream",
     "text": [
      "Connecting to the PostgreSQL...........\n",
      "Connection successfully..................\n",
      "Data inserted using execute_values() successfully...\n"
     ]
    }
   ],
   "source": [
    "# Connect to the database\n",
    "conn = connect(conn_params_dic)\n",
    "conn.autocommit = True\n",
    "# Run the execute_many method\n",
    "execute(conn, ingredient, 'ingredient')\n",
    "# Close the connection\n",
    "conn.close()"
   ]
  },
  {
   "cell_type": "code",
   "execution_count": 32,
   "metadata": {},
   "outputs": [
    {
     "name": "stdout",
     "output_type": "stream",
     "text": [
      "Connecting to the PostgreSQL...........\n",
      "Connection successfully..................\n",
      "Data inserted using execute_values() successfully...\n"
     ]
    }
   ],
   "source": [
    "# Connect to the database\n",
    "conn = connect(conn_params_dic)\n",
    "conn.autocommit = True\n",
    "# Run the execute_many method\n",
    "execute(conn, recipe, 'recipe')\n",
    "# Close the connection\n",
    "conn.close()"
   ]
  },
  {
   "cell_type": "code",
   "execution_count": 33,
   "metadata": {},
   "outputs": [
    {
     "name": "stdout",
     "output_type": "stream",
     "text": [
      "Connecting to the PostgreSQL...........\n",
      "Connection successfully..................\n",
      "Data inserted using execute_values() successfully...\n"
     ]
    }
   ],
   "source": [
    "# Connect to the database\n",
    "conn = connect(conn_params_dic)\n",
    "conn.autocommit = True\n",
    "# Run the execute_many method\n",
    "execute(conn, connections, 'connections')\n",
    "# Close the connection\n",
    "conn.close()"
   ]
  },
  {
   "cell_type": "code",
   "execution_count": 34,
   "metadata": {},
   "outputs": [
    {
     "name": "stdout",
     "output_type": "stream",
     "text": [
      "Connecting to the PostgreSQL...........\n",
      "Connection successfully..................\n",
      "Data inserted using execute_values() successfully...\n"
     ]
    }
   ],
   "source": [
    "# Connect to the database\n",
    "conn = connect(conn_params_dic)\n",
    "conn.autocommit = True\n",
    "# Run the execute_many method\n",
    "execute(conn, unit, 'unit')\n",
    "# Close the connection\n",
    "conn.close()"
   ]
  }
 ],
 "metadata": {
  "kernelspec": {
   "display_name": "Python 3.9.12 64-bit",
   "language": "python",
   "name": "python3"
  },
  "language_info": {
   "codemirror_mode": {
    "name": "ipython",
    "version": 3
   },
   "file_extension": ".py",
   "mimetype": "text/x-python",
   "name": "python",
   "nbconvert_exporter": "python",
   "pygments_lexer": "ipython3",
   "version": "3.10.6"
  },
  "orig_nbformat": 4,
  "vscode": {
   "interpreter": {
    "hash": "93e5499867a482d1f69126f65754e04e21327fbe16c28c259dff18a59fe0a8c0"
   }
  }
 },
 "nbformat": 4,
 "nbformat_minor": 2
}
