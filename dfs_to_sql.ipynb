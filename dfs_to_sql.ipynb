{
 "cells": [
  {
   "cell_type": "code",
   "execution_count": 1,
   "metadata": {},
   "outputs": [],
   "source": [
    "import pandas as pd\n",
    "# import sys to get more detailed Python exception info\n",
    "import sys\n",
    "# import the connect library for psycopg2\n",
    "import psycopg2\n",
    "import psycopg2.extras as extras\n",
    "# import the error handling libraries for psycopg2\n",
    "from psycopg2 import OperationalError, errorcodes, errors"
   ]
  },
  {
   "cell_type": "code",
   "execution_count": 2,
   "metadata": {},
   "outputs": [],
   "source": [
    "ingredient = pd.read_csv('./ingredient.csv')\n",
    "recipe = pd.read_csv('./recipe.csv')\n",
    "connections = pd.read_csv('./connections.csv')\n",
    "unit = pd.read_csv('./unit.csv')"
   ]
  },
  {
   "cell_type": "markdown",
   "metadata": {},
   "source": [
    "### Specify the connection parameters"
   ]
  },
  {
   "cell_type": "code",
   "execution_count": 3,
   "metadata": {},
   "outputs": [],
   "source": [
    "conn_params_dic = {\n",
    "    \"host\"      : \"localhost\",\n",
    "    \"database\"  : \"recipes_2\",\n",
    "    \"user\"      : \"postgres\",\n",
    "    \"password\"  : \"***\"\n",
    "}"
   ]
  },
  {
   "cell_type": "markdown",
   "metadata": {},
   "source": [
    "### Support Functions"
   ]
  },
  {
   "cell_type": "code",
   "execution_count": 4,
   "metadata": {},
   "outputs": [],
   "source": [
    "# Define a function that handles and parses psycopg2 exceptions\n",
    "def show_psycopg2_exception(err):\n",
    "    # get details about the exception\n",
    "    err_type, err_obj, traceback = sys.exc_info()    \n",
    "    # get the line number when exception occured\n",
    "    line_n = traceback.tb_lineno    \n",
    "    # print the connect() error\n",
    "    print (\"\\npsycopg2 ERROR:\", err, \"on line number:\", line_n)\n",
    "    print (\"psycopg2 traceback:\", traceback, \"-- type:\", err_type) \n",
    "    # psycopg2 extensions.Diagnostics object attribute\n",
    "    print (\"\\nextensions.Diagnostics:\", err.diag)    \n",
    "    # print the pgcode and pgerror exceptions\n",
    "    print (\"pgerror:\", err.pgerror)\n",
    "    print (\"pgcode:\", err.pgcode, \"\\n\")\n",
    "    \n",
    "# Define a connect function for PostgreSQL database server\n",
    "def connect(conn_params_dic):\n",
    "    conn = None\n",
    "    try:\n",
    "        print('Connecting to the PostgreSQL...........')\n",
    "        conn = psycopg2.connect(**conn_params_dic)\n",
    "        print(\"Connection successfully..................\")\n",
    "        \n",
    "    except OperationalError as err:\n",
    "        # passing exception to function\n",
    "        show_psycopg2_exception(err)        \n",
    "        # set the connection to 'None' in case of error\n",
    "        conn = None\n",
    "    return conn\n",
    "\n",
    "        \n",
    "# Define function using psycopg2.extras.execute_values() to insert the dataframe.\n",
    "def execute(conn, datafrm, table):\n",
    "    \n",
    "    # Creating a list of tupples from the dataframe values\n",
    "    tpls = [tuple(x) for x in datafrm.to_numpy()]\n",
    "    \n",
    "    # dataframe columns with Comma-separated\n",
    "    cols = ','.join(list(datafrm.columns))\n",
    "    \n",
    "    # SQL query to execute\n",
    "    sql = \"INSERT INTO %s(%s) VALUES %%s\" % (table, cols)\n",
    "    cursor = conn.cursor()\n",
    "    try:\n",
    "        extras.execute_values(cursor, sql, tpls)\n",
    "        conn.commit()\n",
    "        print(\"Data inserted using execute_values() successfully...\")\n",
    "    except (Exception, psycopg2.DatabaseError) as err:\n",
    "        # pass exception to function\n",
    "        show_psycopg2_exception(err)\n",
    "        cursor.close()"
   ]
  },
  {
   "cell_type": "markdown",
   "metadata": {},
   "source": [
    "### Perform main task"
   ]
  },
  {
   "cell_type": "code",
   "execution_count": 5,
   "metadata": {},
   "outputs": [
    {
     "name": "stdout",
     "output_type": "stream",
     "text": [
      "Connecting to the PostgreSQL...........\n",
      "Connection successfully..................\n",
      "Data inserted using execute_values() successfully...\n"
     ]
    }
   ],
   "source": [
    "# Connect to the database\n",
    "conn = connect(conn_params_dic)\n",
    "conn.autocommit = True\n",
    "# Run the execute_many method\n",
    "execute(conn, ingredient, 'ingredient')\n",
    "# Close the connection\n",
    "conn.close()"
   ]
  },
  {
   "cell_type": "code",
   "execution_count": 6,
   "metadata": {},
   "outputs": [
    {
     "name": "stdout",
     "output_type": "stream",
     "text": [
      "Connecting to the PostgreSQL...........\n",
      "Connection successfully..................\n",
      "Data inserted using execute_values() successfully...\n"
     ]
    }
   ],
   "source": [
    "# Connect to the database\n",
    "conn = connect(conn_params_dic)\n",
    "conn.autocommit = True\n",
    "# Run the execute_many method\n",
    "execute(conn, recipe, 'recipe')\n",
    "# Close the connection\n",
    "conn.close()"
   ]
  },
  {
   "cell_type": "code",
   "execution_count": 7,
   "metadata": {},
   "outputs": [
    {
     "name": "stdout",
     "output_type": "stream",
     "text": [
      "Connecting to the PostgreSQL...........\n",
      "Connection successfully..................\n",
      "Data inserted using execute_values() successfully...\n"
     ]
    }
   ],
   "source": [
    "# Connect to the database\n",
    "conn = connect(conn_params_dic)\n",
    "conn.autocommit = True\n",
    "# Run the execute_many method\n",
    "execute(conn, connections, 'connections')\n",
    "# Close the connection\n",
    "conn.close()"
   ]
  },
  {
   "cell_type": "code",
   "execution_count": 8,
   "metadata": {},
   "outputs": [
    {
     "name": "stdout",
     "output_type": "stream",
     "text": [
      "Connecting to the PostgreSQL...........\n",
      "Connection successfully..................\n",
      "Data inserted using execute_values() successfully...\n"
     ]
    }
   ],
   "source": [
    "# Connect to the database\n",
    "conn = connect(conn_params_dic)\n",
    "conn.autocommit = True\n",
    "# Run the execute_many method\n",
    "execute(conn, unit, 'unit')\n",
    "# Close the connection\n",
    "conn.close()"
   ]
  },
  {
   "cell_type": "markdown",
   "metadata": {},
   "source": [
    "### Query the database to check"
   ]
  },
  {
   "cell_type": "code",
   "execution_count": 9,
   "metadata": {},
   "outputs": [
    {
     "name": "stdout",
     "output_type": "stream",
     "text": [
      "Connecting to the PostgreSQL...........\n",
      "Connection successfully..................\n"
     ]
    },
    {
     "data": {
      "text/html": [
       "<div>\n",
       "<style scoped>\n",
       "    .dataframe tbody tr th:only-of-type {\n",
       "        vertical-align: middle;\n",
       "    }\n",
       "\n",
       "    .dataframe tbody tr th {\n",
       "        vertical-align: top;\n",
       "    }\n",
       "\n",
       "    .dataframe thead th {\n",
       "        text-align: right;\n",
       "    }\n",
       "</style>\n",
       "<table border=\"1\" class=\"dataframe\">\n",
       "  <thead>\n",
       "    <tr style=\"text-align: right;\">\n",
       "      <th></th>\n",
       "      <th>id_recipe</th>\n",
       "      <th>cuisine</th>\n",
       "      <th>meal_type</th>\n",
       "      <th>name_recipe</th>\n",
       "      <th>portions</th>\n",
       "      <th>calories</th>\n",
       "      <th>protein</th>\n",
       "      <th>fat</th>\n",
       "      <th>carbo</th>\n",
       "      <th>text_recipe</th>\n",
       "      <th>vegeterian</th>\n",
       "    </tr>\n",
       "  </thead>\n",
       "  <tbody>\n",
       "    <tr>\n",
       "      <th>0</th>\n",
       "      <td>0</td>\n",
       "      <td>Русская кухня</td>\n",
       "      <td>Завтраки</td>\n",
       "      <td>Сырники из творога</td>\n",
       "      <td>2</td>\n",
       "      <td>938.0</td>\n",
       "      <td>42.0</td>\n",
       "      <td>61.0</td>\n",
       "      <td>56.0</td>\n",
       "      <td>Положите весь творог в кастрюльку и разомните ...</td>\n",
       "      <td>False</td>\n",
       "    </tr>\n",
       "    <tr>\n",
       "      <th>1</th>\n",
       "      <td>1</td>\n",
       "      <td>Русская кухня</td>\n",
       "      <td>Выпечка и десерты</td>\n",
       "      <td>Классическая шарлотка</td>\n",
       "      <td>12</td>\n",
       "      <td>217.0</td>\n",
       "      <td>5.0</td>\n",
       "      <td>5.0</td>\n",
       "      <td>38.0</td>\n",
       "      <td>Разогреть духовку. Отделить белки от желтков. ...</td>\n",
       "      <td>False</td>\n",
       "    </tr>\n",
       "    <tr>\n",
       "      <th>2</th>\n",
       "      <td>2</td>\n",
       "      <td>Европейская кухня</td>\n",
       "      <td>Основные блюда</td>\n",
       "      <td>Свинина с карамелизованной морковью</td>\n",
       "      <td>4</td>\n",
       "      <td>551.0</td>\n",
       "      <td>39.0</td>\n",
       "      <td>32.0</td>\n",
       "      <td>28.0</td>\n",
       "      <td>Свинину зачистить и обсушить. Зубчики чеснока ...</td>\n",
       "      <td>False</td>\n",
       "    </tr>\n",
       "  </tbody>\n",
       "</table>\n",
       "</div>"
      ],
      "text/plain": [
       "   id_recipe            cuisine          meal_type  \\\n",
       "0          0      Русская кухня           Завтраки   \n",
       "1          1      Русская кухня  Выпечка и десерты   \n",
       "2          2  Европейская кухня     Основные блюда   \n",
       "\n",
       "                           name_recipe  portions  calories  protein   fat  \\\n",
       "0                   Сырники из творога         2     938.0     42.0  61.0   \n",
       "1                Классическая шарлотка        12     217.0      5.0   5.0   \n",
       "2  Свинина с карамелизованной морковью         4     551.0     39.0  32.0   \n",
       "\n",
       "   carbo                                        text_recipe  vegeterian  \n",
       "0   56.0  Положите весь творог в кастрюльку и разомните ...       False  \n",
       "1   38.0  Разогреть духовку. Отделить белки от желтков. ...       False  \n",
       "2   28.0  Свинину зачистить и обсушить. Зубчики чеснока ...       False  "
      ]
     },
     "metadata": {},
     "output_type": "display_data"
    }
   ],
   "source": [
    "# Connect to the database\n",
    "conn = connect(conn_params_dic)\n",
    "cursor = conn.cursor()\n",
    "\n",
    "# Execute query\n",
    "sql = \"SELECT * FROM recipe\"\n",
    "cursor.execute(sql)\n",
    "\n",
    "# Fetch all the records\n",
    "tuples = cursor.fetchall()\n",
    "\n",
    "# list of columns\n",
    "cols = list(recipe.columns)\n",
    "\n",
    "recipe_df_read = pd.DataFrame(tuples,columns=cols)\n",
    "\n",
    "display(recipe_df_read.head(3))\n",
    "\n",
    "# Close the cursor\n",
    "cursor.close()\n",
    "\n",
    "# Close the conn\n",
    "conn.close()"
   ]
  },
  {
   "cell_type": "markdown",
   "metadata": {},
   "source": [
    "### Query the database to check"
   ]
  },
  {
   "cell_type": "code",
   "execution_count": 11,
   "metadata": {},
   "outputs": [
    {
     "name": "stdout",
     "output_type": "stream",
     "text": [
      "Connecting to the PostgreSQL...........\n",
      "Connection successfully..................\n"
     ]
    },
    {
     "data": {
      "text/html": [
       "<div>\n",
       "<style scoped>\n",
       "    .dataframe tbody tr th:only-of-type {\n",
       "        vertical-align: middle;\n",
       "    }\n",
       "\n",
       "    .dataframe tbody tr th {\n",
       "        vertical-align: top;\n",
       "    }\n",
       "\n",
       "    .dataframe thead th {\n",
       "        text-align: right;\n",
       "    }\n",
       "</style>\n",
       "<table border=\"1\" class=\"dataframe\">\n",
       "  <thead>\n",
       "    <tr style=\"text-align: right;\">\n",
       "      <th></th>\n",
       "      <th>id_ingr</th>\n",
       "      <th>name_ingr</th>\n",
       "    </tr>\n",
       "  </thead>\n",
       "  <tbody>\n",
       "    <tr>\n",
       "      <th>0</th>\n",
       "      <td>0</td>\n",
       "      <td>Творог</td>\n",
       "    </tr>\n",
       "    <tr>\n",
       "      <th>1</th>\n",
       "      <td>1</td>\n",
       "      <td>Куриное яйцо</td>\n",
       "    </tr>\n",
       "    <tr>\n",
       "      <th>2</th>\n",
       "      <td>2</td>\n",
       "      <td>Пшеничная мука</td>\n",
       "    </tr>\n",
       "    <tr>\n",
       "      <th>3</th>\n",
       "      <td>3</td>\n",
       "      <td>Сахар</td>\n",
       "    </tr>\n",
       "    <tr>\n",
       "      <th>4</th>\n",
       "      <td>4</td>\n",
       "      <td>Подсолнечное масло</td>\n",
       "    </tr>\n",
       "  </tbody>\n",
       "</table>\n",
       "</div>"
      ],
      "text/plain": [
       "   id_ingr           name_ingr\n",
       "0        0              Творог\n",
       "1        1        Куриное яйцо\n",
       "2        2      Пшеничная мука\n",
       "3        3               Сахар\n",
       "4        4  Подсолнечное масло"
      ]
     },
     "metadata": {},
     "output_type": "display_data"
    }
   ],
   "source": [
    "# Connect to the database\n",
    "conn = connect(conn_params_dic)\n",
    "cursor = conn.cursor()\n",
    "\n",
    "# Execute query\n",
    "sql = \"SELECT * FROM ingredient\"\n",
    "cursor.execute(sql)\n",
    "\n",
    "# Fetch all the records\n",
    "tuples = cursor.fetchall()\n",
    "\n",
    "# list of columns\n",
    "cols = list(ingredient.columns)\n",
    "\n",
    "ingredient_read = pd.DataFrame(tuples,columns=cols)\n",
    "\n",
    "display(ingredient_read.head())\n",
    "\n",
    "# Close the cursor\n",
    "cursor.close()\n",
    "\n",
    "# Close the conn\n",
    "conn.close()"
   ]
  }
 ],
 "metadata": {
  "kernelspec": {
   "display_name": "Python 3.9.12 64-bit",
   "language": "python",
   "name": "python3"
  },
  "language_info": {
   "codemirror_mode": {
    "name": "ipython",
    "version": 3
   },
   "file_extension": ".py",
   "mimetype": "text/x-python",
   "name": "python",
   "nbconvert_exporter": "python",
   "pygments_lexer": "ipython3",
   "version": "3.9.12"
  },
  "orig_nbformat": 4,
  "vscode": {
   "interpreter": {
    "hash": "93e5499867a482d1f69126f65754e04e21327fbe16c28c259dff18a59fe0a8c0"
   }
  }
 },
 "nbformat": 4,
 "nbformat_minor": 2
}
